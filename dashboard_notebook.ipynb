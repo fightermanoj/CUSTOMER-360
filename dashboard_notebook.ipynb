{
 "cells": [
  {
   "cell_type": "markdown",
   "metadata": {},
   "source": [
    "# Customer 360 Notebook Dashboard\n",
    "AI-Driven Data Integration Quality for Multi-Source Analytics Overview"
   ]
  },
  {
   "cell_type": "code",
   "execution_count": null,
   "metadata": {},
   "outputs": [],
   "source": [
    "import pandas as pd\n",
    "import matplotlib.pyplot as plt\n",
    "import seaborn as sns\n",
    "from IPython.display import display, HTML\n",
    "import os\n",
    "import ipywidgets as widgets\n",
    "from ipywidgets import interact\n",
    "\n",
    "sns.set_style(\"whitegrid\")\n",
    "plt.rcParams['figure.figsize'] = (12, 6)\n",
    "\n",
    "OUTPUT_CSV_PATH = \"customer_360_final.csv\" \n",
    "\n",
    "def load_data(file_path=OUTPUT_CSV_PATH):\n",
    "    if os.path.exists(file_path):\n",
    "        try:\n",
    "            df = pd.read_csv(file_path)\n",
    "            numeric_cols = ['total_spend', 'num_orders', 'total_time_spent_seconds', 'days_since_last_order']\n",
    "            for col in numeric_cols:\n",
    "                if col in df.columns:\n",
    "                    df[col] = pd.to_numeric(df[col], errors='coerce')\n",
    "            if 'segment' in df.columns:\n",
    "                 df['segment'] = df['segment'].astype(str)\n",
    "            return df\n",
    "        except Exception as e:\n",
    "            print(f\"Error loading data: {e}\")\n",
    "            return pd.DataFrame()\n",
    "    else:\n",
    "        print(f\"Data file '{file_path}' not found. Run main.py first.\")\n",
    "        return pd.DataFrame()\n",
    "\n",
    "df_360 = load_data()"
   ]
  },
  {
   "cell_type": "markdown",
   "metadata": {},
   "source": [
    "# Customer 360 Notebook Dashboard\n",
    "AI-Driven Data Integration Quality for Multi-Source Analytics Overview"
   ]
  },
  {
   "cell_type": "code",
   "execution_count": null,
   "metadata": {},
   "outputs": [],
   "source": [
    "if not df_360.empty:\n",
    "    display(HTML(\"<h2>Key Performance Indicators (KPIs)</h2>\"))\n",
    "    \n",
    "    total_customers = df_360['master_customer_id'].nunique() if 'master_customer_id' in df_360.columns else 0\n",
    "    total_spend = df_360['total_spend'].sum() if 'total_spend' in df_360.columns else 0\n",
    "    avg_orders = df_360['num_orders'].mean() if 'num_orders' in df_360.columns and df_360['num_orders'].notna().any() else 0\n",
    "    vip_count = df_360['is_vip'].sum() if 'is_vip' in df_360.columns else \"N/A\"\n",
    "\n",
    "    kpi_html = f\"\"\"\n",
    "    <div style='display: flex; justify-content: space-around;'>\n",
    "        <div style='border: 1px solid #ccc; padding: 10px; margin: 5px; text-align: center; min-width: 200px;'>\n",
    "            <h4>Total Unique Customers</h4><p style='font-size: 24px;'>{total_customers:,}</p>\n",
    "        </div>\n",
    "        <div style='border: 1px solid #ccc; padding: 10px; margin: 5px; text-align: center; min-width: 200px;'>\n",
    "            <h4>Total Revenue</h4><p style='font-size: 24px;'>${total_spend:,.2f}</p>\n",
    "        </div>\n",
    "        <div style='border: 1px solid #ccc; padding: 10px; margin: 5px; text-align: center; min-width: 200px;'>\n",
    "            <h4>Avg. Orders / Customer</h4><p style='font-size: 24px;'>{avg_orders:.2f}</p>\n",
    "        </div>\n",
    "        <div style='border: 1px solid #ccc; padding: 10px; margin: 5px; text-align: center; min-width: 200px;'>\n",
    "            <h4>VIP Customers</h4><p style='font-size: 24px;'>{vip_count:,}</p>\n",
    "        </div>\n",
    "    </div>\n",
    "    \"\"\"\n",
    "    display(HTML(kpi_html))\n",
    "else:\n",
    "    display(HTML(\"<p style='color:red;'>No data to display. Ensure 'customer_360_final.csv' exists.</p>\"))"
   ]
  },
  {
   "cell_type": "code",
   "execution_count": null,
   "metadata": {},
   "outputs": [],
   "source": [
    "if not df_360.empty and 'segment' in df_360.columns and df_360['segment'].nunique() > 0:\n",
    "    display(HTML(\"<h2>Customer Segments Overview</h2>\"))\n",
    "\n",
    "    fig, axes = plt.subplots(1, 2, figsize=(18, 6))\n",
    "\n",
    "    segment_counts = df_360['segment'].value_counts()\n",
    "    sns.barplot(x=segment_counts.index, y=segment_counts.values, ax=axes[0], palette=\"viridis\", hue=segment_counts.index, legend=False)\n",
    "    axes[0].set_title(\"Customer Distribution by Segment\")\n",
    "    axes[0].set_xlabel(\"Segment ID\")\n",
    "    axes[0].set_ylabel(\"Number of Customers\")\n",
    "    for i, v in enumerate(segment_counts.values):\n",
    "        axes[0].text(i, v + 0.5, str(v), color='black', ha='center')\n",
    "\n",
    "    if 'total_spend' in df_360.columns and df_360['total_spend'].notna().any():\n",
    "        segment_spend = df_360.groupby('segment')['total_spend'].mean().sort_values(ascending=False)\n",
    "        sns.barplot(x=segment_spend.index, y=segment_spend.values, ax=axes[1], palette=\"magma\", hue=segment_spend.index, legend=False)\n",
    "        axes[1].set_title(\"Average Spend by Segment\")\n",
    "        axes[1].set_xlabel(\"Segment ID\")\n",
    "        axes[1].set_ylabel(\"Average Spend ($)\")\n",
    "        axes[1].yaxis.set_major_formatter(plt.FuncFormatter(lambda x, p: f'${x:,.0f}'))\n",
    "    else:\n",
    "        axes[1].text(0.5, 0.5, 'Total spend data not available for segments.', \n",
    "                     horizontalalignment='center', verticalalignment='center', \n",
    "                     transform=axes[1].transAxes, fontsize=12, color='grey')\n",
    "        axes[1].set_title(\"Average Spend by Segment\")\n",
    "        axes[1].set_xlabel(\"Segment ID\")\n",
    "        axes[1].set_ylabel(\"Average Spend ($)\")\n",
    "\n",
    "    plt.tight_layout()\n",
    "    plt.show()\n",
    "elif not df_360.empty:\n",
    "    display(HTML(\"<p>Segmentation data not available or not diverse for display.</p>\"))"
   ]
  },
  {
   "cell_type": "code",
   "execution_count": null,
   "metadata": {},
   "outputs": [],
   "source": [
    "if not df_360.empty:\n",
    "    display(HTML(\"<h2>Customer Data Table (Sample)</h2>\"))\n",
    "    display(df_360.head(10))\n"
   ]
  },
  {
   "cell_type": "code",
   "execution_count": null,
   "metadata": {},
   "outputs": [],
   "source": [
    "if not df_360.empty and 'email' in df_360.columns and df_360['email'].notna().any():\n",
    "    display(HTML(\"<h3>Individual Customer Profile (Interactive)</h3>\"))\n",
    "    email_options = [\"\"] + sorted(df_360['email'].astype(str).dropna().unique().tolist())\n",
    "    \n",
    "    @interact(email=widgets.Dropdown(options=email_options, description='Select Email:', layout={'width': '400px'}))\n",
    "    def show_customer_profile(email):\n",
    "        if email:\n",
    "            profile = df_360[df_360['email'] == email]\n",
    "            if not profile.empty:\n",
    "                display(HTML(profile.T.to_html()))\n",
    "            else:\n",
    "                print(\"Customer not found.\")\n",
    "        else:\n",
    "            print(\"Select an email to view profile.\")"
   ]
  }
 ],
 "metadata": {
  "kernelspec": {
   "display_name": "Python 3",
   "language": "python",
   "name": "python3"
  },
  "language_info": {
   "codemirror_mode": {
    "name": "ipython",
    "version": 3
   },
   "file_extension": ".py",
   "mimetype": "text/x-python",
   "name": "python",
   "nbconvert_exporter": "python",
   "pygments_lexer": "ipython3",
   "version": "3.9.7"
  }
 },
 "nbformat": 4,
 "nbformat_minor": 2
}
